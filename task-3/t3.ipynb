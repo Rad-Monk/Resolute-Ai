{
 "cells": [
  {
   "cell_type": "code",
   "execution_count": 1,
   "metadata": {},
   "outputs": [],
   "source": [
    "import pandas as pd"
   ]
  },
  {
   "cell_type": "code",
   "execution_count": 4,
   "metadata": {},
   "outputs": [
    {
     "name": "stdout",
     "output_type": "stream",
     "text": [
      "        date      time  sensor location  number activity position location.1\n",
      "0 2024-01-16  10:10:30     0.0       A1       1   placed   inside         A1\n",
      "1 2024-01-16  10:12:30     1.0       A2       1   picked   inside         A2\n",
      "2 2024-01-16  10:28:30     1.0       A3       1   picked   Inside         A3\n",
      "3 2024-01-16  10:38:20     0.0       A4       1   placed   Inside         A4\n",
      "4 2024-01-16  10:45:20     1.0       A5       1   placed   inside         A5\n"
     ]
    }
   ],
   "source": [
    "file_location = \"../data/task-3/rawdata.xlsx\"\n",
    "df = pd.read_excel(file_location)\n",
    "print(df.head())"
   ]
  },
  {
   "cell_type": "code",
   "execution_count": 7,
   "metadata": {},
   "outputs": [],
   "source": [
    "# make a function that gives the number of picked and placed activites for each date\n",
    "def get_picked_and_placed(df):\n",
    "    picked = df[df['activity'] == 'picked'].groupby('date').size()\n",
    "    placed = df[df['activity'] == 'placed'].groupby('date').size()\n",
    "    return pd.concat([picked, placed], axis=1).fillna(0)"
   ]
  },
  {
   "cell_type": "code",
   "execution_count": 33,
   "metadata": {},
   "outputs": [
    {
     "name": "stdout",
     "output_type": "stream",
     "text": [
      "             0   1\n",
      "date              \n",
      "2024-01-16  40  40\n",
      "2024-01-17  10   9\n",
      "2024-01-18  37  39\n"
     ]
    }
   ],
   "source": [
    "print(get_picked_and_placed(df))"
   ]
  },
  {
   "cell_type": "code",
   "execution_count": 15,
   "metadata": {},
   "outputs": [],
   "source": [
    "# make a function to convert time column to string\n",
    "def convert_time_to_string(df):\n",
    "    return df.assign(time=df['time'].astype(str))"
   ]
  },
  {
   "cell_type": "code",
   "execution_count": 21,
   "metadata": {},
   "outputs": [],
   "source": [
    "df[\"time\"] = df[\"time\"].astype(str)"
   ]
  },
  {
   "cell_type": "code",
   "execution_count": 30,
   "metadata": {},
   "outputs": [],
   "source": [
    "# convert time column to 24h format\n",
    "def convert_time_to_24h(df):\n",
    "    return df.assign(time=pd.to_datetime(df['time'], format='%I:%M:%S %p').dt.strftime('%H:%M:%S'))\n",
    "\n",
    "# what do the values in format mean?\n",
    "# %I - hour (12-hour clock) as a zero-padded decimal number\n",
    "# %M - minute as a zero-padded decimal number\n",
    "# %p - AM or PM\n",
    "\n",
    "# is ther eone for second too?\n",
    "# %S - second as a zero-padded decimal number"
   ]
  },
  {
   "cell_type": "code",
   "execution_count": 31,
   "metadata": {},
   "outputs": [
    {
     "data": {
      "text/html": [
       "<div>\n",
       "<style scoped>\n",
       "    .dataframe tbody tr th:only-of-type {\n",
       "        vertical-align: middle;\n",
       "    }\n",
       "\n",
       "    .dataframe tbody tr th {\n",
       "        vertical-align: top;\n",
       "    }\n",
       "\n",
       "    .dataframe thead th {\n",
       "        text-align: right;\n",
       "    }\n",
       "</style>\n",
       "<table border=\"1\" class=\"dataframe\">\n",
       "  <thead>\n",
       "    <tr style=\"text-align: right;\">\n",
       "      <th></th>\n",
       "      <th>date</th>\n",
       "      <th>time</th>\n",
       "      <th>sensor</th>\n",
       "      <th>location</th>\n",
       "      <th>number</th>\n",
       "      <th>activity</th>\n",
       "      <th>position</th>\n",
       "      <th>location.1</th>\n",
       "    </tr>\n",
       "  </thead>\n",
       "  <tbody>\n",
       "    <tr>\n",
       "      <th>0</th>\n",
       "      <td>2024-01-16</td>\n",
       "      <td>10:10:30</td>\n",
       "      <td>0.0</td>\n",
       "      <td>A1</td>\n",
       "      <td>1</td>\n",
       "      <td>placed</td>\n",
       "      <td>inside</td>\n",
       "      <td>A1</td>\n",
       "    </tr>\n",
       "    <tr>\n",
       "      <th>1</th>\n",
       "      <td>2024-01-16</td>\n",
       "      <td>10:12:30</td>\n",
       "      <td>1.0</td>\n",
       "      <td>A2</td>\n",
       "      <td>1</td>\n",
       "      <td>picked</td>\n",
       "      <td>inside</td>\n",
       "      <td>A2</td>\n",
       "    </tr>\n",
       "    <tr>\n",
       "      <th>2</th>\n",
       "      <td>2024-01-16</td>\n",
       "      <td>10:28:30</td>\n",
       "      <td>1.0</td>\n",
       "      <td>A3</td>\n",
       "      <td>1</td>\n",
       "      <td>picked</td>\n",
       "      <td>Inside</td>\n",
       "      <td>A3</td>\n",
       "    </tr>\n",
       "    <tr>\n",
       "      <th>3</th>\n",
       "      <td>2024-01-16</td>\n",
       "      <td>10:38:20</td>\n",
       "      <td>0.0</td>\n",
       "      <td>A4</td>\n",
       "      <td>1</td>\n",
       "      <td>placed</td>\n",
       "      <td>Inside</td>\n",
       "      <td>A4</td>\n",
       "    </tr>\n",
       "    <tr>\n",
       "      <th>4</th>\n",
       "      <td>2024-01-16</td>\n",
       "      <td>10:45:20</td>\n",
       "      <td>1.0</td>\n",
       "      <td>A5</td>\n",
       "      <td>1</td>\n",
       "      <td>placed</td>\n",
       "      <td>inside</td>\n",
       "      <td>A5</td>\n",
       "    </tr>\n",
       "  </tbody>\n",
       "</table>\n",
       "</div>"
      ],
      "text/plain": [
       "        date      time  sensor location  number activity position location.1\n",
       "0 2024-01-16  10:10:30     0.0       A1       1   placed   inside         A1\n",
       "1 2024-01-16  10:12:30     1.0       A2       1   picked   inside         A2\n",
       "2 2024-01-16  10:28:30     1.0       A3       1   picked   Inside         A3\n",
       "3 2024-01-16  10:38:20     0.0       A4       1   placed   Inside         A4\n",
       "4 2024-01-16  10:45:20     1.0       A5       1   placed   inside         A5"
      ]
     },
     "execution_count": 31,
     "metadata": {},
     "output_type": "execute_result"
    }
   ],
   "source": [
    "df.head()"
   ]
  },
  {
   "cell_type": "code",
   "execution_count": 32,
   "metadata": {},
   "outputs": [
    {
     "data": {
      "text/html": [
       "<div>\n",
       "<style scoped>\n",
       "    .dataframe tbody tr th:only-of-type {\n",
       "        vertical-align: middle;\n",
       "    }\n",
       "\n",
       "    .dataframe tbody tr th {\n",
       "        vertical-align: top;\n",
       "    }\n",
       "\n",
       "    .dataframe thead th {\n",
       "        text-align: right;\n",
       "    }\n",
       "</style>\n",
       "<table border=\"1\" class=\"dataframe\">\n",
       "  <thead>\n",
       "    <tr style=\"text-align: right;\">\n",
       "      <th></th>\n",
       "      <th>date</th>\n",
       "      <th>time</th>\n",
       "      <th>sensor</th>\n",
       "      <th>location</th>\n",
       "      <th>number</th>\n",
       "      <th>activity</th>\n",
       "      <th>position</th>\n",
       "      <th>location.1</th>\n",
       "    </tr>\n",
       "  </thead>\n",
       "  <tbody>\n",
       "    <tr>\n",
       "      <th>170</th>\n",
       "      <td>2024-01-18</td>\n",
       "      <td>12:45:05</td>\n",
       "      <td>0.0</td>\n",
       "      <td>A8</td>\n",
       "      <td>2</td>\n",
       "      <td>placed</td>\n",
       "      <td>inside</td>\n",
       "      <td>A8</td>\n",
       "    </tr>\n",
       "    <tr>\n",
       "      <th>171</th>\n",
       "      <td>2024-01-18</td>\n",
       "      <td>12:53:10</td>\n",
       "      <td>1.0</td>\n",
       "      <td>A9</td>\n",
       "      <td>2</td>\n",
       "      <td>picked</td>\n",
       "      <td>inside</td>\n",
       "      <td>A9</td>\n",
       "    </tr>\n",
       "    <tr>\n",
       "      <th>172</th>\n",
       "      <td>2024-01-18</td>\n",
       "      <td>12:59:10</td>\n",
       "      <td>1.0</td>\n",
       "      <td>A10</td>\n",
       "      <td>2</td>\n",
       "      <td>placed</td>\n",
       "      <td>outside</td>\n",
       "      <td>A10</td>\n",
       "    </tr>\n",
       "    <tr>\n",
       "      <th>173</th>\n",
       "      <td>2024-01-18</td>\n",
       "      <td>13:10:20</td>\n",
       "      <td>1.0</td>\n",
       "      <td>A11</td>\n",
       "      <td>2</td>\n",
       "      <td>picked</td>\n",
       "      <td>Inside</td>\n",
       "      <td>A11</td>\n",
       "    </tr>\n",
       "    <tr>\n",
       "      <th>174</th>\n",
       "      <td>2024-01-18</td>\n",
       "      <td>13:18:30</td>\n",
       "      <td>0.0</td>\n",
       "      <td>A12</td>\n",
       "      <td>2</td>\n",
       "      <td>placed</td>\n",
       "      <td>inside</td>\n",
       "      <td>A12</td>\n",
       "    </tr>\n",
       "  </tbody>\n",
       "</table>\n",
       "</div>"
      ],
      "text/plain": [
       "          date      time  sensor location  number activity position location.1\n",
       "170 2024-01-18  12:45:05     0.0       A8       2   placed   inside         A8\n",
       "171 2024-01-18  12:53:10     1.0       A9       2   picked   inside         A9\n",
       "172 2024-01-18  12:59:10     1.0      A10       2   placed  outside        A10\n",
       "173 2024-01-18  13:10:20     1.0      A11       2   picked   Inside        A11\n",
       "174 2024-01-18  13:18:30     0.0      A12       2   placed   inside        A12"
      ]
     },
     "execution_count": 32,
     "metadata": {},
     "output_type": "execute_result"
    }
   ],
   "source": [
    "df.tail()"
   ]
  },
  {
   "cell_type": "code",
   "execution_count": 40,
   "metadata": {},
   "outputs": [
    {
     "name": "stdout",
     "output_type": "stream",
     "text": [
      "          date                time  sensor location  number activity position  \\\n",
      "16  2024-01-16 1900-01-01 00:02:20     1.0      a17       1   placed   inside   \n",
      "24  2024-01-16 1900-01-01 00:02:20     0.0      a25       1   placed   inside   \n",
      "18  2024-01-16 1900-01-01 00:08:20     1.0      a19       1   picked   inside   \n",
      "19  2024-01-16 1900-01-01 00:10:20     0.0      a20       1   placed   inside   \n",
      "20  2024-01-16 1900-01-01 00:15:20     0.0      a21       1   placed   inside   \n",
      "..         ...                 ...     ...      ...     ...      ...      ...   \n",
      "149 2024-01-18 1900-01-01 18:57:00     0.0      a30       1   picked  outside   \n",
      "150 2024-01-18 1900-01-01 19:10:00     NaN      a31       1   placed   Inside   \n",
      "151 2024-01-18 1900-01-01 19:19:00     1.0      a32       1   picked   inside   \n",
      "152 2024-01-18 1900-01-01 19:23:00     1.0      a33       1   placed   inside   \n",
      "153 2024-01-18 1900-01-01 19:30:20     1.0      a34       1   picked   inside   \n",
      "\n",
      "    location.1  duration  \n",
      "16         A17       0.0  \n",
      "24         A25       0.0  \n",
      "18         A19       0.0  \n",
      "19         A20     480.0  \n",
      "20         A21     300.0  \n",
      "..         ...       ...  \n",
      "149        A30    1320.0  \n",
      "150        A31    1500.0  \n",
      "151        A32    1320.0  \n",
      "152        A33     780.0  \n",
      "153        A34     680.0  \n",
      "\n",
      "[175 rows x 9 columns]\n"
     ]
    }
   ],
   "source": [
    "# how do i find duration for inside and outside activity each date?\n",
    "def get_duration(df):\n",
    "    df['time'] = pd.to_datetime(df['time'], format='%H:%M:%S')\n",
    "    df = df.sort_values(by=['date', 'time'])\n",
    "    df['duration'] = df.groupby(['date', 'activity'])['time'].diff().dt.total_seconds().fillna(0)\n",
    "    return df\n",
    "\n",
    "print(get_duration(df))\n",
    "\n"
   ]
  },
  {
   "cell_type": "code",
   "execution_count": 42,
   "metadata": {},
   "outputs": [
    {
     "name": "stdout",
     "output_type": "stream",
     "text": [
      "activity     picked   placed\n",
      "date                        \n",
      "2024-01-16  42240.0  43020.0\n",
      "2024-01-17  11330.0  10910.0\n",
      "2024-01-18  33470.0  33150.0\n"
     ]
    }
   ],
   "source": [
    "# now sum all the inside and outside on each date\n",
    "def get_sum_duration(df):\n",
    "    return df.groupby(['date', 'activity'])['duration'].sum().unstack().fillna(0)\n",
    "\n",
    "print(get_sum_duration(get_duration(df)))"
   ]
  },
  {
   "cell_type": "code",
   "execution_count": 43,
   "metadata": {},
   "outputs": [
    {
     "name": "stdout",
     "output_type": "stream",
     "text": [
      "             0   1   picked   placed\n",
      "date                                \n",
      "2024-01-16  40  40  42240.0  43020.0\n",
      "2024-01-17  10   9  11330.0  10910.0\n",
      "2024-01-18  37  39  33470.0  33150.0\n"
     ]
    }
   ],
   "source": [
    "# now combine both picked_and_placed dataframe and sum_duration dataframe\n",
    "def combine_dfs(df):\n",
    "    return pd.concat([get_picked_and_placed(df), get_sum_duration(get_duration(df))], axis=1).fillna(0)\n",
    "\n",
    "print(combine_dfs(df))"
   ]
  },
  {
   "cell_type": "code",
   "execution_count": 44,
   "metadata": {},
   "outputs": [],
   "source": [
    "# export it as csv\n",
    "combine_dfs(df).to_csv('processed_data.csv')"
   ]
  },
  {
   "cell_type": "code",
   "execution_count": null,
   "metadata": {},
   "outputs": [],
   "source": []
  }
 ],
 "metadata": {
  "kernelspec": {
   "display_name": "Python 3",
   "language": "python",
   "name": "python3"
  },
  "language_info": {
   "codemirror_mode": {
    "name": "ipython",
    "version": 3
   },
   "file_extension": ".py",
   "mimetype": "text/x-python",
   "name": "python",
   "nbconvert_exporter": "python",
   "pygments_lexer": "ipython3",
   "version": "3.11.3"
  }
 },
 "nbformat": 4,
 "nbformat_minor": 2
}
