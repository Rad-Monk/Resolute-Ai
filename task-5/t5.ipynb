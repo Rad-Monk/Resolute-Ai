{
 "cells": [
  {
   "cell_type": "code",
   "execution_count": null,
   "metadata": {},
   "outputs": [],
   "source": [
    "import transformers\n",
    "import fitz # install using: pip install PyMuPDF\n",
    "from transformers import BartTokenizer, TFBartForConditionalGeneration\n",
    "import math"
   ]
  },
  {
   "cell_type": "code",
   "execution_count": null,
   "metadata": {},
   "outputs": [],
   "source": [
    "pdf_path = \"../data/task-5/Operations Management.pdf\""
   ]
  },
  {
   "cell_type": "code",
   "execution_count": 2,
   "metadata": {},
   "outputs": [],
   "source": [
    "\n",
    "def extract_text_from_pdf(pdf_path):\n",
    "    text = \"\"\n",
    "    with fitz.open(pdf_path) as pdf:\n",
    "        for page_num in range(len(pdf)):\n",
    "            page = pdf[page_num]\n",
    "            text += page.get_text()\n",
    "    return text"
   ]
  },
  {
   "cell_type": "code",
   "execution_count": null,
   "metadata": {},
   "outputs": [],
   "source": [
    "pdf_text = extract_text_from_pdf(pdf_path)"
   ]
  },
  {
   "cell_type": "code",
   "execution_count": null,
   "metadata": {},
   "outputs": [],
   "source": [
    "print(pdf_text)"
   ]
  },
  {
   "cell_type": "code",
   "execution_count": null,
   "metadata": {},
   "outputs": [],
   "source": [
    "tokenizer = BartTokenizer.from_pretrained('facebook/bart-large-cnn')\n",
    "model = TFBartForConditionalGeneration.from_pretrained('facebook/bart-large-cnn')"
   ]
  },
  {
   "cell_type": "code",
   "execution_count": null,
   "metadata": {},
   "outputs": [],
   "source": [
    "def summarize_text(text, chunk_size=1024, summary_max_length=600, summary_min_length=400):\n",
    "    tokens = tokenizer(text, return_tensors='tf', max_length=chunk_size, truncation=True).input_ids\n",
    "    num_chunks = math.ceil(tokens.shape[1] / chunk_size)\n",
    "    \n",
    "    summaries = []\n",
    "    for i in range(num_chunks):\n",
    "        chunk = tokens[:, i*chunk_size:(i+1)*chunk_size]\n",
    "        summary_ids = model.generate(chunk, max_length=summary_max_length, min_length=summary_min_length, do_sample=False)\n",
    "        summary = tokenizer.decode(summary_ids[0], skip_special_tokens=True)\n",
    "        summaries.append(summary)\n",
    "    \n",
    "    return ' '.join(summaries)\n",
    "\n"
   ]
  },
  {
   "cell_type": "code",
   "execution_count": 23,
   "metadata": {},
   "outputs": [
    {
     "name": "stdout",
     "output_type": "stream",
     "text": [
      "Enter the Spark Environment Of google collab. For your help can refer to the following Link. Take a screenshot of the Answer and also c the Answer to help you understand the question. The Question: Who are the winners of the D1 division in the Germany Football Association (Bundesliga) in the past decade? The Answer: Which season of Bundesliga was the most competitive in the last decade? And the Question: What's the best month to watch Bundesliga? The Question is based on the data from the German Football Association's official website. The Answer is also available in English and German on the German FA website and on the Bundesliga's official Twitter account. The answer is available in German and English on the Germany FA's official twitter account and the German Bundesliga's Official Facebook page. The German Bundesliga website can be found here: http://www.bundesligan.org/en/news/index.php?storylink=cpy and the Question is open to the public. For more information about the German football federation, visit their official website here: http:// www.bbc.co.uk/football/en-gbf/news-and-soccer/bundestligan/index-news/top-10-top-stories-of-the-last-10 years-in-bundersliga-d1-division.html. For the German version of the Question, click here:  http: https://medium.com/analytics-vidhya/getting-started-spark-3-0-0/0/3-getting- started-sp Spark-3/3/0.html/1/3.html#story.html?news-link=top.html&story-title=Getting-started Spark3-1.html%20Spark%203%20Getting%20started%20spark.html,%20the%20answer%20of%20this%20question%20is%20what%20to%20help%20you%20with%20your%20analytics%20research%20and%20Google%20collections%20on%20blogs%20page%20about%20Bundestag%20s%20bund%20history%,%20team%20that%20have%20been%20relegated%20in%20last 10%20decade, and%20removed%20from%20their%20top%20division, and %20the relegation%20most%20year%20departures%20since%202010, and which%20teams%20were%20promoted%, and which teams have been promoted in the last decade%20for%\n"
     ]
    }
   ],
   "source": [
    "# Summarize the PDF text\n",
    "text = pdf_text\n",
    "# text = \"\"\"\n",
    "#     1. Who are the winners of the D1 division in the Germany Football Association (Bundesliga) in the\n",
    "# last decade?\n",
    "# 2. Which teams have been relegated in the past 10 years?\n",
    "# 3. Does Octoberfest affect the performance of Bundesliga?\n",
    "# 4. Which season of Bundesliga was the most competitive in the last decade?\n",
    "# 5. What's the best month to watch Bundesliga?\n",
    "# Enter the Spark Environment Of google collab. For your help can refer to the following Link\n",
    "# https://medium.com/analytics-vidhya/getting-started-spark3-0-0-with-google-colab-9796d350d78\n",
    "# Take a screenshot of the Answer and also c\n",
    "# \"\"\"\n",
    "summary = summarize_text(text)\n",
    "print(summary)"
   ]
  },
  {
   "cell_type": "code",
   "execution_count": 3,
   "metadata": {},
   "outputs": [],
   "source": [
    "def get_summary(pdf):\n",
    "    pdf_text = extract_text_from_pdf(pdf)\n",
    "    summary = summarize_text(pdf_text)\n",
    "    return summary"
   ]
  },
  {
   "cell_type": "code",
   "execution_count": null,
   "metadata": {},
   "outputs": [],
   "source": []
  },
  {
   "cell_type": "code",
   "execution_count": null,
   "metadata": {},
   "outputs": [],
   "source": []
  }
 ],
 "metadata": {
  "kernelspec": {
   "display_name": "Python 3",
   "language": "python",
   "name": "python3"
  },
  "language_info": {
   "codemirror_mode": {
    "name": "ipython",
    "version": 3
   },
   "file_extension": ".py",
   "mimetype": "text/x-python",
   "name": "python",
   "nbconvert_exporter": "python",
   "pygments_lexer": "ipython3",
   "version": "3.11.3"
  }
 },
 "nbformat": 4,
 "nbformat_minor": 2
}
