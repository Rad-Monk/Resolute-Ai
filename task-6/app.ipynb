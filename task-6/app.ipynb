{
 "cells": [
  {
   "cell_type": "code",
   "execution_count": null,
   "metadata": {},
   "outputs": [],
   "source": [
    "# %pip install langchain\n",
    "# %pip install OpenAI\n",
    "# %pip install PyPDF2\n",
    "# %pip install python-dotenv\n",
    "# %pip install streamlit\n",
    "# %pip install faiss-cpu\n",
    "# %pip install streamlit-extras\n",
    "# %pip install PyMuPDF\n",
    "# %pip install -U langchain-community\n",
    "# %pip install tiktoken"
   ]
  },
  {
   "cell_type": "code",
   "execution_count": null,
   "metadata": {},
   "outputs": [],
   "source": [
    "from dotenv import load_dotenv\n",
    "import streamlit as st\n",
    "import fitz # install using: pip install PyMuPDF\n",
    "import os\n",
    "from PyPDF2 import PdfReader\n",
    "from streamlit_extras.add_vertical_space import add_vertical_space\n",
    "from langchain.text_splitter import CharacterTextSplitter\n",
    "from langchain.embeddings.openai import OpenAIEmbeddings\n",
    "from langchain.vectorstores import FAISS\n",
    "from langchain.chains.question_answering import load_qa_chain\n",
    "from langchain.llms import OpenAI\n",
    "from langchain.callbacks import get_openai_callback"
   ]
  },
  {
   "cell_type": "code",
   "execution_count": null,
   "metadata": {},
   "outputs": [],
   "source": [
    "load_dotenv()"
   ]
  },
  {
   "cell_type": "code",
   "execution_count": null,
   "metadata": {},
   "outputs": [],
   "source": [
    "def extract_text_from_pdf(pdf_path):\n",
    "    text = \"\"\n",
    "    with fitz.open(pdf_path) as pdf:\n",
    "        for page_num in range(len(pdf)):\n",
    "            page = pdf[page_num]\n",
    "            text += page.get_text()\n",
    "    return text"
   ]
  },
  {
   "cell_type": "code",
   "execution_count": 29,
   "metadata": {},
   "outputs": [
    {
     "name": "stderr",
     "output_type": "stream",
     "text": [
      "2024-07-17 19:18:51.933 \n",
      "  \u001b[33m\u001b[1mWarning:\u001b[0m to view this Streamlit app on a browser, run it with the following\n",
      "  command:\n",
      "\n",
      "    streamlit run c:\\Users\\ASUS\\AppData\\Local\\Programs\\Python\\Python311\\Lib\\site-packages\\ipykernel_launcher.py [ARGUMENTS]\n"
     ]
    }
   ],
   "source": [
    "# pdf_path = \"../data/task-5/Operations Management.pdf\"\n",
    "pdf = st.file_uploader(\"Upload your PDF File and Ask Questions\", type=\"pdf\")\n",
    "text= extract_text_from_pdf(pdf)"
   ]
  },
  {
   "cell_type": "code",
   "execution_count": null,
   "metadata": {},
   "outputs": [],
   "source": [
    "# split into chunks\n",
    "text_splitter = CharacterTextSplitter(\n",
    "    separator=\"\\n\",\n",
    "    chunk_size=1000,\n",
    "    chunk_overlap=200,\n",
    "    length_function=len\n",
    "    )\n",
    "chunks = text_splitter.split_text(text)"
   ]
  },
  {
   "cell_type": "code",
   "execution_count": null,
   "metadata": {},
   "outputs": [],
   "source": [
    "#create embeddings\n",
    "embeddings = OpenAIEmbeddings()\n",
    "knowledge_base = FAISS.from_texts(chunks, embeddings)"
   ]
  },
  {
   "cell_type": "code",
   "execution_count": null,
   "metadata": {},
   "outputs": [],
   "source": [
    "llm = OpenAI()\n",
    "chain = load_qa_chain(llm, chain_type=\"stuff\")\n",
    "with get_openai_callback() as cb:\n",
    "    response = chain.run(input_documents=docs, question=user_question)\n",
    "    print(cb)\n",
    "           \n",
    "st.write(response)"
   ]
  },
  {
   "cell_type": "code",
   "execution_count": null,
   "metadata": {},
   "outputs": [],
   "source": [
    "# Sidebar contents\n",
    "with st.sidebar:\n",
    "    st.title('💬PDF Summarizer and Q/A App')\n",
    "\n",
    "    add_vertical_space(2)\n",
    "    st.write('Made for Resolute-Ai intern assignment Task-6 of pdf q/a')\n",
    "    add_vertical_space(2)    \n",
    "    st.write('Made by Aryan Sharma')\n",
    "\n",
    "def main():\n",
    "    load_dotenv()\n",
    "\n",
    "    #Main Content\n",
    "    st.header(\"Ask About Your PDF 🤷‍♀️💬\")"
   ]
  },
  {
   "cell_type": "code",
   "execution_count": null,
   "metadata": {},
   "outputs": [],
   "source": [
    "# show user input\n",
    "with st.chat_message(\"user\"):\n",
    "    st.write(\"Hello World👋\")\n",
    "    user_question = st.text_input(\"Please ask a question about your PDF here:\")\n",
    "    if user_question:\n",
    "        docs = knowledge_base.similarity_search(user_question)"
   ]
  }
 ],
 "metadata": {
  "kernelspec": {
   "display_name": "Python 3",
   "language": "python",
   "name": "python3"
  },
  "language_info": {
   "codemirror_mode": {
    "name": "ipython",
    "version": 3
   },
   "file_extension": ".py",
   "mimetype": "text/x-python",
   "name": "python",
   "nbconvert_exporter": "python",
   "pygments_lexer": "ipython3",
   "version": "3.11.3"
  }
 },
 "nbformat": 4,
 "nbformat_minor": 2
}
